{
 "cells": [
  {
   "cell_type": "code",
   "execution_count": null,
   "metadata": {},
   "outputs": [],
   "source": [
    "# THIS SCRIPT IS USED TO EXTRACT THREE DOMINANT COLORS FROM IMAGES IN A FOLDER\n",
    "\n",
    "# USE THIS SCRIPT IN A VENV AND A SEPARATE VS CODE WINDOW"
   ]
  },
  {
   "cell_type": "code",
   "execution_count": 19,
   "metadata": {},
   "outputs": [
    {
     "name": "stdout",
     "output_type": "stream",
     "text": [
      "Colors for 1.jpg: [(43, 53, 31), (215, 212, 20), (141, 159, 17)]\n",
      "Colors for 10.jpg: [(177, 227, 230), (175, 40, 117), (24, 115, 170)]\n",
      "Colors for 11.jpg: [(215, 173, 181), (49, 115, 138), (152, 61, 93)]\n",
      "Colors for 12.jpg: [(195, 147, 157), (169, 46, 107), (60, 117, 143)]\n",
      "Colors for 13.jpg: [(26, 38, 50), (39, 197, 240), (212, 80, 97)]\n",
      "Colors for 14.jpg: [(65, 95, 112), (217, 177, 210), (107, 217, 212)]\n",
      "Colors for 15.jpg: [(203, 160, 167), (169, 44, 59), (54, 19, 27)]\n",
      "Colors for 16.jpg: [(204, 195, 204), (62, 127, 113), (151, 73, 79)]\n",
      "Colors for 17.jpg: [(97, 92, 103), (216, 189, 172), (115, 227, 234)]\n",
      "Colors for 18.jpg: [(94, 178, 180), (62, 45, 85), (225, 138, 166)]\n",
      "Colors for 19.jpg: [(203, 153, 154), (70, 125, 135), (139, 57, 82)]\n",
      "Colors for 2.jpg: [(194, 178, 190), (69, 91, 113), (126, 78, 87)]\n",
      "Colors for 20.jpg: [(68, 103, 125), (216, 215, 212), (132, 194, 200)]\n",
      "Colors for 21.jpg: [(48, 68, 70), (182, 210, 199), (131, 189, 171)]\n",
      "Colors for 22.jpg: [(64, 47, 41), (204, 138, 68), (147, 163, 120)]\n",
      "Colors for 23.jpg: [(182, 182, 179), (31, 32, 33), (84, 83, 86)]\n",
      "Colors for 24.jpg: [(182, 195, 167), (48, 105, 34), (96, 86, 9)]\n",
      "Colors for 25.jpg: [(92, 62, 53), (220, 209, 200), (177, 167, 159)]\n",
      "Colors for 26.jpg: [(193, 156, 163), (73, 114, 139), (138, 58, 65)]\n",
      "Colors for 27.jpg: [(49, 96, 122), (237, 249, 251), (129, 228, 216)]\n",
      "Colors for 28.jpg: [(43, 50, 54), (176, 173, 170), (138, 157, 158)]\n",
      "Colors for 29.jpg: [(204, 194, 197), (68, 41, 72), (157, 64, 89)]\n",
      "Colors for 3.jpg: [(7, 89, 53), (39, 188, 129), (169, 209, 192)]\n",
      "Colors for 30.jpg: [(108, 140, 105), (201, 208, 153), (64, 36, 31)]\n",
      "Colors for 31.jpg: [(61, 66, 61), (180, 188, 88), (140, 161, 114)]\n",
      "Colors for 32.jpg: [(77, 68, 42), (211, 173, 25), (162, 168, 160)]\n",
      "Colors for 33.jpg: [(101, 147, 150), (35, 48, 51), (211, 208, 180)]\n",
      "Colors for 34.jpg: [(61, 57, 74), (200, 191, 224), (143, 177, 220)]\n",
      "Colors for 35.jpg: [(33, 44, 52), (194, 203, 209), (131, 153, 160)]\n",
      "Colors for 36.jpg: [(74, 47, 48), (200, 146, 141), (155, 155, 155)]\n",
      "Colors for 37.jpg: [(76, 109, 134), (195, 215, 229), (151, 194, 216)]\n",
      "Colors for 38.jpg: [(36, 51, 53), (182, 206, 204), (128, 165, 166)]\n",
      "Colors for 39.jpg: [(176, 141, 116), (44, 26, 23), (106, 45, 33)]\n",
      "Colors for 4.jpg: [(186, 176, 185), (48, 32, 38), (99, 60, 69)]\n",
      "Colors for 40.jpg: [(26, 12, 20), (215, 121, 61), (132, 142, 164)]\n",
      "Colors for 41.jpg: [(37, 46, 56), (185, 210, 212), (125, 165, 164)]\n",
      "Colors for 42.jpg: [(34, 46, 53), (163, 182, 184), (131, 154, 158)]\n",
      "Colors for 43.jpg: [(81, 82, 81), (192, 185, 174), (161, 173, 173)]\n",
      "Colors for 44.jpg: [(160, 160, 156), (27, 36, 44), (74, 71, 74)]\n",
      "Colors for 45.jpg: [(70, 79, 89), (212, 221, 227), (159, 176, 185)]\n",
      "Colors for 46.jpg: [(91, 83, 60), (207, 185, 104), (169, 175, 182)]\n",
      "Colors for 47.jpg: [(69, 64, 62), (201, 186, 162), (153, 164, 155)]\n",
      "Colors for 48.jpg: [(80, 31, 29), (229, 112, 43), (172, 148, 114)]\n",
      "Colors for 49.jpg: [(46, 62, 72), (195, 216, 223), (138, 169, 178)]\n",
      "Colors for 5.jpg: [(69, 85, 41), (215, 213, 78), (163, 195, 84)]\n",
      "Colors for 50.jpg: [(37, 66, 71), (178, 203, 202), (119, 173, 184)]\n",
      "Colors for 6.jpg: [(53, 58, 61), (179, 180, 182), (148, 164, 168)]\n",
      "Colors for 7.jpg: [(34, 39, 41), (169, 172, 170), (134, 152, 155)]\n",
      "Colors for 8.jpg: [(92, 94, 100), (208, 181, 163), (118, 217, 241)]\n",
      "Colors for 9.jpg: [(76, 66, 74), (211, 53, 68), (158, 176, 185)]\n"
     ]
    }
   ],
   "source": [
    "from PIL import Image\n",
    "from colorthief import ColorThief\n",
    "import os\n",
    "\n",
    "def get_dominant_colors(image_path, num_colors=2):\n",
    "    # Use ColorThief to get the dominant colors\n",
    "    color_thief = ColorThief(image_path)\n",
    "    dominant_colors = color_thief.get_palette(color_count=num_colors)\n",
    "\n",
    "    return dominant_colors\n",
    "\n",
    "def process_images_in_folder(folder_path):\n",
    "    # Get a list of all files in the folder\n",
    "    files = os.listdir(folder_path)\n",
    "\n",
    "    for file in files:\n",
    "        # Check if the file is an image (you may need to add more file extensions)\n",
    "        if file.lower().endswith(('.png', '.jpg', '.jpeg')):\n",
    "            # Get the full path to the image\n",
    "            image_path = os.path.join(folder_path, file)\n",
    "\n",
    "            # Get the dominant colors\n",
    "            dominant_colors = get_dominant_colors(image_path)\n",
    "\n",
    "            # Print or use the dominant colors as needed\n",
    "            print(f\"Colors for {file}: {dominant_colors}\")\n",
    "\n",
    "# Specify the path to your image folder\n",
    "image_folder_path = r'C:\\Users\\nikok\\Downloads\\All\\All' # REPLACE THIS WITH YOUR OWN FOLDER PATH\n",
    "\n",
    "# Process images in the folder\n",
    "process_images_in_folder(image_folder_path)\n"
   ]
  }
 ],
 "metadata": {
  "kernelspec": {
   "display_name": "Python 3",
   "language": "python",
   "name": "python3"
  },
  "language_info": {
   "codemirror_mode": {
    "name": "ipython",
    "version": 3
   },
   "file_extension": ".py",
   "mimetype": "text/x-python",
   "name": "python",
   "nbconvert_exporter": "python",
   "pygments_lexer": "ipython3",
   "version": "3.11.5"
  }
 },
 "nbformat": 4,
 "nbformat_minor": 2
}
